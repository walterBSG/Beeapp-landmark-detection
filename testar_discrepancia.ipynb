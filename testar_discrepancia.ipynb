{
 "cells": [
  {
   "cell_type": "code",
   "execution_count": 1,
   "metadata": {},
   "outputs": [],
   "source": [
    "import numpy as np\n",
    "import procrustes_module as pr\n",
    "from sklearn.model_selection import train_test_split\n",
    "from sklearn.preprocessing import StandardScaler\n",
    "from sklearn import svm, preprocessing\n",
    "from sklearn.ensemble import RandomForestClassifier\n",
    "from joblib import dump, load"
   ]
  },
  {
   "cell_type": "code",
   "execution_count": 2,
   "metadata": {},
   "outputs": [],
   "source": [
    "def takeFloatsAndNames(file):\n",
    "\tnames = []\n",
    "\t\n",
    "\twith open(file, 'r') as f:\n",
    "\t\tdata = f.read().split()\n",
    "\t\tfloats = []\n",
    "\t\tfor elem in data:\n",
    "\t\t\ttry:\n",
    "\t\t\t\tfloats.append(float(elem))\n",
    "\t\t\texcept ValueError:\n",
    "\t\t\t\tpass\n",
    "\t\n",
    "\twith open(file, 'r') as f:\n",
    "\t\tfor line in f:\n",
    "\t\t\tif '.jpg' in line or '.bmp' in line or '.JPG' in line:\n",
    "\t\t\t\tif '.JPG' in line:\n",
    "\t\t\t\t\tline = line.replace('.JPG','.jpg')\n",
    "\t\t\t\tnames.append(line.replace('\\n',''))\n",
    "\t\t\t\t\n",
    "\treturn names, floats\n",
    "\n",
    "def compare(y_test, y_pred):\n",
    "    counter = 0\n",
    "    for test, pred in zip(y_test, y_pred):\n",
    "        if test == pred:\n",
    "            counter += 1\n",
    "\n",
    "    print(counter/len(y_pred))\n",
    "\n",
    "def ajust_reference(X, reference):\n",
    "\tX = np.reshape(X, (-1, 38))\n",
    "\treference = np.reshape(reference, (-1, 38))\n",
    "\t\n",
    "\tresult = []\n",
    "\tfor x in X:\n",
    "\t\tnumber_list = []\n",
    "\t\tfor index, ref in enumerate(reference):\n",
    "\t\t\tnumber_list.append(x[index] - ref)\n",
    "\t\tresult.append(number_list)\n",
    "\treturn result"
   ]
  },
  {
   "cell_type": "code",
   "execution_count": 3,
   "metadata": {},
   "outputs": [],
   "source": [
    "names0, floats0 = takeFloatsAndNames('/home/walter/Documents/Projeto_Asas/acores_full_crop.txt')\n",
    "\n",
    "names1, floats1 = takeFloatsAndNames('/home/walter/Documents/Projeto_Asas/peninsula_full_crop.txt')\n",
    "\n",
    "names2, floats2 = takeFloatsAndNames('/home/walter/Documents/ruttner/ruttner_full_crop.txt')"
   ]
  },
  {
   "cell_type": "code",
   "execution_count": 4,
   "metadata": {},
   "outputs": [],
   "source": [
    "y = [0 for _ in range(int(len(floats0)/38))] + [1 for _ in range(int(len(floats1)/38))] + [2 for _ in range(int(len(floats2)/38))]\n",
    "\n",
    "floats = floats0 + floats1 + floats2\n",
    "floats = np.reshape(floats,(-1,19,2))"
   ]
  },
  {
   "cell_type": "code",
   "execution_count": 5,
   "metadata": {},
   "outputs": [
    {
     "name": "stdout",
     "output_type": "stream",
     "text": [
      "[[ 70. 220.]\n",
      " [ 67. 183.]\n",
      " [117. 170.]\n",
      " [202. 115.]\n",
      " [242.  67.]\n",
      " [287. 273.]\n",
      " [300. 233.]\n",
      " [297. 178.]\n",
      " [337. 131.]\n",
      " [310. 114.]\n",
      " [353.  70.]\n",
      " [340.  41.]\n",
      " [406.  74.]\n",
      " [502. 132.]\n",
      " [503.  69.]\n",
      " [505. 233.]\n",
      " [562. 158.]\n",
      " [590. 151.]\n",
      " [741.  48.]]\n",
      "not quite:1851.1960620205252\n"
     ]
    }
   ],
   "source": [
    "X, reference = pr.procrustes_analysis(floats, 0.01)\n",
    "\n",
    "X = ajust_reference(X, reference)\n",
    "X = np.reshape(X, (-1, 38))\n",
    "y = np.reshape(y, (-1))\n",
    "X_train, X_test, y_train, y_test = train_test_split(X, y, random_state=0)"
   ]
  },
  {
   "cell_type": "code",
   "execution_count": 29,
   "metadata": {},
   "outputs": [
    {
     "name": "stdout",
     "output_type": "stream",
     "text": [
      "0.5624161073825503\n"
     ]
    },
    {
     "name": "stderr",
     "output_type": "stream",
     "text": [
      "/home/walter/anaconda3/envs/w/lib/python3.6/site-packages/sklearn/svm/base.py:931: ConvergenceWarning: Liblinear failed to converge, increase the number of iterations.\n",
      "  \"the number of iterations.\", ConvergenceWarning)\n"
     ]
    }
   ],
   "source": [
    "#SVM\n",
    "classifier = svm.LinearSVC(C = 500)\n",
    "y_pred = classifier.fit(X_train, y_train).predict(X_test)\n",
    "\n",
    "compare(y_test, y_pred)"
   ]
  },
  {
   "cell_type": "code",
   "execution_count": 7,
   "metadata": {},
   "outputs": [
    {
     "name": "stdout",
     "output_type": "stream",
     "text": [
      "0.3906040268456376\n"
     ]
    }
   ],
   "source": [
    "from sklearn.naive_bayes import GaussianNB\n",
    "clf = GaussianNB()\n",
    "y_pred = clf.fit(X_train, y_train).predict(X_test)\n",
    "\n",
    "compare(y_test, y_pred)"
   ]
  },
  {
   "cell_type": "code",
   "execution_count": 13,
   "metadata": {},
   "outputs": [
    {
     "name": "stdout",
     "output_type": "stream",
     "text": [
      "0.5906040268456376\n"
     ]
    }
   ],
   "source": [
    "clf = RandomForestClassifier(n_estimators=100, max_depth=1, random_state=0)\n",
    "y_pred = clf.fit(X_train, y_train).predict(X_test)\n",
    "\n",
    "compare(y_test, y_pred)"
   ]
  }
 ],
 "metadata": {
  "kernelspec": {
   "display_name": "Python 3",
   "language": "python",
   "name": "python3"
  },
  "language_info": {
   "codemirror_mode": {
    "name": "ipython",
    "version": 3
   },
   "file_extension": ".py",
   "mimetype": "text/x-python",
   "name": "python",
   "nbconvert_exporter": "python",
   "pygments_lexer": "ipython3",
   "version": "3.6.8"
  }
 },
 "nbformat": 4,
 "nbformat_minor": 2
}
